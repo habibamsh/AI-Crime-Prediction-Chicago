{
 "cells": [
  {
   "cell_type": "markdown",
   "metadata": {},
   "source": [
    "Import Required libraries"
   ]
  },
  {
   "cell_type": "code",
   "execution_count": 1,
   "metadata": {},
   "outputs": [],
   "source": [
    "import torch\n",
    "import torch.nn as nn\n",
    "import torch.optim as optim\n",
    "import pandas as pd\n",
    "from sklearn.model_selection import train_test_split\n",
    "from sklearn.preprocessing import LabelEncoder, StandardScaler\n",
    "import datetime"
   ]
  },
  {
   "cell_type": "markdown",
   "metadata": {},
   "source": [
    "Open CSV file (may need to change paths)"
   ]
  },
  {
   "cell_type": "code",
   "execution_count": 2,
   "metadata": {},
   "outputs": [],
   "source": [
    "df = pd.read_csv('crime_data_raw_2022C.csv')"
   ]
  },
  {
   "cell_type": "markdown",
   "metadata": {},
   "source": [
    "Preprocess the data (we ran it and cleaned_csv has the data)"
   ]
  },
  {
   "cell_type": "code",
   "execution_count": 4,
   "metadata": {},
   "outputs": [],
   "source": [
    "def get_week_of_year_from_string(timestamp_str):\n",
    "    timestamp_format = \"%m/%d/%Y %I:%M:%S %p\"\n",
    "    try:\n",
    "        datetime_obj = datetime.datetime.strptime(timestamp_str, timestamp_format)\n",
    "        week_number = datetime_obj.strftime(\"%U\")\n",
    "        return int(week_number)\n",
    "    except ValueError:\n",
    "        return None\n",
    "\n",
    "df = pd.read_csv('/Users/manav/Desktop/cmpsc-497-fall-2023-final-project-ai-policing/implementation/crime_data_raw_2022C.csv')\n",
    "\n",
    "\n",
    "x_to_name = {}\n",
    "name_to_x = {}\n",
    "# Iterate over DataFrame rows to create the mappings\n",
    "for index, row in df.iterrows():\n",
    "    x_to_name[row['IUCR']] = row['Primary Type']\n",
    "    name_to_x[row['Primary Type']] = row['IUCR']\n",
    "df['week_no'] = df['Date'].apply(get_week_of_year_from_string)\n",
    "df = df.drop(columns=['Zip Codes', 'Date', 'Block', 'Primary Type', 'Beat','Location'])\n",
    "\n",
    "\n",
    "df.to_csv('cleaned_dataset.csv', index=False)"
   ]
  },
  {
   "cell_type": "code",
   "execution_count": 3,
   "metadata": {},
   "outputs": [],
   "source": [
    "df = pd.read_csv('/Users/manav/Desktop/cmpsc-497-fall-2023-final-project-ai-policing/cleaned_dataset.csv')\n",
    "\n",
    "label_encoder = LabelEncoder()\n",
    "df['crime_code'] = label_encoder.fit_transform(df['IUCR'])\n",
    "df['District'] = label_encoder.fit_transform(df['District'])\n",
    "df['Ward'] = label_encoder.fit_transform(df['Ward'])\n",
    "df['FBI Code'] = label_encoder.fit_transform(df['FBI Code'])\n",
    "df['Community Area'] = label_encoder.fit_transform(df['Community Area'])\n",
    "scaler = StandardScaler()\n",
    "df[['week_no']] = scaler.fit_transform(df[['week_no']])\n",
    "\n",
    "df['Arrest'] = df['Arrest'].astype(int)"
   ]
  },
  {
   "cell_type": "markdown",
   "metadata": {},
   "source": [
    "Selecting input and targets"
   ]
  },
  {
   "cell_type": "code",
   "execution_count": 4,
   "metadata": {},
   "outputs": [],
   "source": [
    "features = df[['week_no', 'crime_code', 'Arrest', 'District', 'Ward', 'FBI Code']]\n",
    "target = df['Community Area']\n"
   ]
  },
  {
   "cell_type": "markdown",
   "metadata": {},
   "source": [
    "##Split the data set in train and test"
   ]
  },
  {
   "cell_type": "code",
   "execution_count": 5,
   "metadata": {},
   "outputs": [],
   "source": [
    "# Split the dataset\n",
    "X_train, X_test, y_train, y_test = train_test_split(features, target, test_size=0.2, random_state=31)"
   ]
  },
  {
   "cell_type": "markdown",
   "metadata": {},
   "source": [
    "##Define the Neural Network Model"
   ]
  },
  {
   "cell_type": "code",
   "execution_count": 6,
   "metadata": {},
   "outputs": [],
   "source": [
    "class CrimeRiskNN(nn.Module):\n",
    "    def __init__(self, input_size, output_size):\n",
    "        super(CrimeRiskNN, self).__init__()\n",
    "        self.layer1 = nn.Linear(input_size, 128)\n",
    "        self.layer2 = nn.Linear(128, 64)\n",
    "        self.output_layer = nn.Linear(64, output_size)\n",
    "\n",
    "    def forward(self, x):\n",
    "        x = torch.relu(self.layer1(x))\n",
    "        x = torch.relu(self.layer2(x))\n",
    "        x = self.output_layer(x)\n",
    "        return x"
   ]
  },
  {
   "cell_type": "code",
   "execution_count": 7,
   "metadata": {},
   "outputs": [],
   "source": [
    "# Initialize the network\n",
    "input_size = features.shape[1]\n",
    "unique_community_areas = df['Community Area'].nunique()\n",
    "model = CrimeRiskNN(input_size, unique_community_areas)"
   ]
  },
  {
   "cell_type": "code",
   "execution_count": 8,
   "metadata": {},
   "outputs": [],
   "source": [
    "# Loss and Optimizer\n",
    "criterion = nn.MSELoss()\n",
    "optimizer = optim.Adam(model.parameters(), lr=0.001)\n"
   ]
  },
  {
   "cell_type": "code",
   "execution_count": 9,
   "metadata": {},
   "outputs": [
    {
     "name": "stderr",
     "output_type": "stream",
     "text": [
      "/Users/manav/.pyenv/versions/3.11.5/lib/python3.11/site-packages/torch/nn/modules/loss.py:535: UserWarning: Using a target size (torch.Size([373706, 1])) that is different to the input size (torch.Size([373706, 77])). This will likely lead to incorrect results due to broadcasting. Please ensure they have the same size.\n",
      "  return F.mse_loss(input, target, reduction=self.reduction)\n"
     ]
    },
    {
     "name": "stdout",
     "output_type": "stream",
     "text": [
      "Epoch [10/50], Loss: 1330.5240\n",
      "Epoch [20/50], Loss: 931.8353\n",
      "Epoch [30/50], Loss: 815.1242\n",
      "Epoch [40/50], Loss: 788.2466\n",
      "Epoch [50/50], Loss: 775.3954\n"
     ]
    }
   ],
   "source": [
    "# Training the model\n",
    "num_epochs = 50\n",
    "for epoch in range(num_epochs):\n",
    "    # Convert features and targets to tensors\n",
    "    inputs = torch.tensor(X_train.values, dtype=torch.float32)\n",
    "    targets = torch.tensor(y_train.values, dtype=torch.float32)\n",
    "\n",
    "    # Forward pass\n",
    "    outputs = model(inputs)\n",
    "    loss = criterion(outputs, targets.view(-1,1))\n",
    "\n",
    "    # Backward and optimize\n",
    "    optimizer.zero_grad()\n",
    "    loss.backward()\n",
    "    optimizer.step()\n",
    "\n",
    "    if (epoch+1) % 10 == 0:\n",
    "        print(f'Epoch [{epoch+1}/{num_epochs}], Loss: {loss.item():.4f}')"
   ]
  },
  {
   "cell_type": "code",
   "execution_count": 34,
   "metadata": {},
   "outputs": [],
   "source": [
    "crime_label_encoder = LabelEncoder()\n",
    "df['crime_code'] = crime_label_encoder.fit_transform(df['IUCR'])\n",
    "\n",
    "# Later in the script, to make a prediction\n",
    "def predict_top_community_area(week_no, original_crime_code, k):\n",
    "    # Convert original crime code to encoded value\n",
    "    encoded_crime_code = crime_label_encoder.transform([original_crime_code])[0]\n",
    "    \n",
    "    # Prepare and normalize input data\n",
    "    input_data = pd.DataFrame([[week_no, encoded_crime_code, 1, 0, 0, 0]], \n",
    "                              columns=['week_no', 'crime_code', 'Arrest', 'District', 'Ward', 'FBI Code'])\n",
    "    input_data['week_no'] = scaler.transform(input_data[['week_no']])\n",
    "    \n",
    "    # Convert to tensor\n",
    "    input_tensor = torch.tensor(input_data.values, dtype=torch.float32)\n",
    "\n",
    "    # Get predictions\n",
    "    prediction = model(input_tensor)\n",
    "    ttop_k_values, top_k_indices = torch.topk(prediction, k)\n",
    "    \n",
    "    # Convert top_k_indices to a list or any other preferred format\n",
    "    top_k_community_areas = top_k_indices.tolist()\n",
    "\n",
    "    return top_k_community_areas"
   ]
  },
  {
   "cell_type": "code",
   "execution_count": 10,
   "metadata": {},
   "outputs": [
    {
     "ename": "NameError",
     "evalue": "name 'predict_top_community_area' is not defined",
     "output_type": "error",
     "traceback": [
      "\u001b[0;31m---------------------------------------------------------------------------\u001b[0m",
      "\u001b[0;31mNameError\u001b[0m                                 Traceback (most recent call last)",
      "\u001b[1;32m/Users/manav/Desktop/cmpsc-497-fall-2023-final-project-ai-policing/implementation/nn.ipynb Cell 18\u001b[0m line \u001b[0;36m2\n\u001b[1;32m      <a href='vscode-notebook-cell:/Users/manav/Desktop/cmpsc-497-fall-2023-final-project-ai-policing/implementation/nn.ipynb#X23sZmlsZQ%3D%3D?line=0'>1</a>\u001b[0m \u001b[39m# Example usage\u001b[39;00m\n\u001b[0;32m----> <a href='vscode-notebook-cell:/Users/manav/Desktop/cmpsc-497-fall-2023-final-project-ai-policing/implementation/nn.ipynb#X23sZmlsZQ%3D%3D?line=1'>2</a>\u001b[0m top_community_area \u001b[39m=\u001b[39m predict_top_community_area(week_no\u001b[39m=\u001b[39m\u001b[39m51\u001b[39m, original_crime_code\u001b[39m=\u001b[39m\u001b[39m'\u001b[39m\u001b[39m1120\u001b[39m\u001b[39m'\u001b[39m, k\u001b[39m=\u001b[39m\u001b[39m23\u001b[39m)\n\u001b[1;32m      <a href='vscode-notebook-cell:/Users/manav/Desktop/cmpsc-497-fall-2023-final-project-ai-policing/implementation/nn.ipynb#X23sZmlsZQ%3D%3D?line=2'>3</a>\u001b[0m \u001b[39mprint\u001b[39m(\u001b[39mf\u001b[39m\u001b[39m'\u001b[39m\u001b[39mTop Community Area: \u001b[39m\u001b[39m{\u001b[39;00mtop_community_area\u001b[39m}\u001b[39;00m\u001b[39m'\u001b[39m)\n",
      "\u001b[0;31mNameError\u001b[0m: name 'predict_top_community_area' is not defined"
     ]
    }
   ],
   "source": [
    "# Example usage\n",
    "top_community_area = predict_top_community_area(week_no=51, original_crime_code='1120', k=23)\n",
    "print(f'Top Community Area: {top_community_area}')"
   ]
  }
 ],
 "metadata": {
  "kernelspec": {
   "display_name": "Python 3",
   "language": "python",
   "name": "python3"
  },
  "language_info": {
   "codemirror_mode": {
    "name": "ipython",
    "version": 3
   },
   "file_extension": ".py",
   "mimetype": "text/x-python",
   "name": "python",
   "nbconvert_exporter": "python",
   "pygments_lexer": "ipython3",
   "version": "3.11.5"
  }
 },
 "nbformat": 4,
 "nbformat_minor": 2
}
